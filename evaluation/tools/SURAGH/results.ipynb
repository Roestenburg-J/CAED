{
 "cells": [
  {
   "cell_type": "code",
   "execution_count": 80,
   "metadata": {},
   "outputs": [],
   "source": [
    "import pandas as pd\n",
    "import numpy as np\n",
    "\n",
    "from sklearn.metrics import (\n",
    "    accuracy_score,\n",
    "    precision_score,\n",
    "    recall_score,\n",
    "    f1_score,\n",
    "    roc_auc_score,\n",
    "    average_precision_score,\n",
    "    confusion_matrix,\n",
    ")"
   ]
  },
  {
   "cell_type": "code",
   "execution_count": 81,
   "metadata": {},
   "outputs": [],
   "source": [
    "def annotate_errors(\n",
    "    df_fixed: pd.DataFrame, df_with_errors: pd.DataFrame\n",
    ") -> pd.DataFrame:\n",
    "    # Check if the dataframes have the same shape and columns after sorting\n",
    "    if df_fixed.shape != df_with_errors.shape or not all(\n",
    "        df_fixed.columns == df_with_errors.columns\n",
    "    ):\n",
    "\n",
    "        raise ValueError(\"Both dataframes must have the same structure.\")\n",
    "\n",
    "    # Convert both dataframes to strings for datatype-agnostic comparison\n",
    "    df_fixed_str = df_fixed.astype(str)\n",
    "    df_with_errors_str = df_with_errors.astype(str)\n",
    "\n",
    "    # Create the annotation dataframe by comparing the two dataframes\n",
    "    error_annotation = (df_fixed_str != df_with_errors_str).astype(int)\n",
    "\n",
    "    return error_annotation"
   ]
  },
  {
   "cell_type": "code",
   "execution_count": 82,
   "metadata": {},
   "outputs": [],
   "source": [
    "def inspect_classification(\n",
    "    true_dataset: pd.DataFrame, pred_dataset: pd.DataFrame, input_dataset: pd.DataFrame\n",
    "):\n",
    "    true_dataset.reset_index(drop=True)\n",
    "    pred_dataset.reset_index(drop=True)\n",
    "    input_dataset.reset_index(drop=True)\n",
    "\n",
    "    true_dataset.columns = input_dataset.columns\n",
    "    pred_dataset.columns = input_dataset.columns\n",
    "\n",
    "    calc = true_dataset.add(2)\n",
    "    calc_out = pred_dataset.copy()\n",
    "    calc_out[calc_out == 0] = -1\n",
    "\n",
    "    calc = calc.add(calc_out)\n",
    "\n",
    "    # True positive calculation\n",
    "    tp = calc == 4\n",
    "    true_positive_df = input_dataset[tp].astype(str)\n",
    "    true_positive_df = true_positive_df.replace(to_replace=\"nan\", value=0)\n",
    "    true_positive_df = true_positive_df.reset_index(drop=True)  # Remove index\n",
    "\n",
    "    # False positive calculation\n",
    "    fp = calc == 3\n",
    "    false_positive_df = input_dataset[fp].astype(str)\n",
    "    false_positive_df = false_positive_df.replace(to_replace=\"nan\", value=0)\n",
    "    false_positive_df = false_positive_df.reset_index(drop=True)  # Remove index\n",
    "\n",
    "    # False negative calculation\n",
    "    fn = calc == 2\n",
    "    false_negative_df = input_dataset[fn].astype(str)\n",
    "    false_negative_df = false_negative_df.replace(to_replace=\"nan\", value=0)\n",
    "    false_negative_df = false_negative_df.reset_index(drop=True)  # Remove index\n",
    "\n",
    "    all_errors_df = input_dataset[fp | fn].astype(str)\n",
    "    all_errors_df = all_errors_df.replace(to_replace=\"nan\", value=0)\n",
    "    all_errors_df = all_errors_df.reset_index(drop=True)  # Remove index\n",
    "\n",
    "    return true_positive_df, false_positive_df, false_negative_df, all_errors_df"
   ]
  },
  {
   "cell_type": "code",
   "execution_count": 83,
   "metadata": {},
   "outputs": [],
   "source": [
    "def calculate_metrics(true_dataset: pd.DataFrame, pred_dataset: pd.DataFrame):\n",
    "    # Flatten the dataframes to 1D arrays\n",
    "    y_true = true_dataset.values.flatten()\n",
    "    y_pred = pred_dataset.values.flatten()\n",
    "\n",
    "    # Basic metrics\n",
    "    accuracy = accuracy_score(y_true, y_pred)\n",
    "    precision = precision_score(y_true, y_pred)\n",
    "    recall = recall_score(y_true, y_pred)\n",
    "    f1 = f1_score(y_true, y_pred)\n",
    "\n",
    "    # Class-specific accuracy\n",
    "    tn, fp, fn, tp = confusion_matrix(y_true, y_pred).ravel()\n",
    "\n",
    "    # AUC scores\n",
    "    roc_auc = roc_auc_score(y_true, y_pred)\n",
    "    pr_auc = average_precision_score(y_true, y_pred)\n",
    "\n",
    "    # Count of 1s in true and predicted labels\n",
    "    true_positives_count = sum(y_true == 1)  # Total 1s in true labels\n",
    "    predicted_positives_count = tp  # Total 1s in predictions\n",
    "\n",
    "    return {\n",
    "        \"accuracy\": float(accuracy),\n",
    "        \"precision\": float(precision),\n",
    "        \"recall\": float(recall),\n",
    "        \"f1_score\": float(f1),\n",
    "        \"roc_auc\": float(roc_auc),\n",
    "        \"pr_auc\": float(pr_auc),\n",
    "        \"true_positives_count\": int(true_positives_count),\n",
    "        \"predicted_positives_count\": int(predicted_positives_count),\n",
    "    }"
   ]
  },
  {
   "cell_type": "code",
   "execution_count": 84,
   "metadata": {},
   "outputs": [],
   "source": [
    "def get_annotated_output(dirty_dataset, ill_formed_records):\n",
    "    # Create a copy of the dataset to annotate\n",
    "    annotated_output = dirty_dataset.copy()\n",
    "\n",
    "    # Initialize with 0s\n",
    "    annotated_output.loc[:, :] = 0\n",
    "\n",
    "    # Set rows with ill-formed records to 1\n",
    "    annotated_output.loc[ill_formed_records, :] = 1\n",
    "\n",
    "    return annotated_output.astype(int)"
   ]
  },
  {
   "cell_type": "code",
   "execution_count": null,
   "metadata": {},
   "outputs": [],
   "source": [
    "output_file = pd.read_csv(\"./source/output/flights/ResultIndices.csv\")\n",
    "clean_dataset = pd.read_csv(\"../../datasets/flights/clean.csv\")\n",
    "dirty_dataset = pd.read_csv(\"../../datasets/flights/dirty.csv\")\n",
    "\n",
    "ill_formed_records_string = output_file[\"Row Indices\"][1]\n",
    "\n",
    "# Subtract 2 for every entry. The index for the df starts at 0, but the output starts at row 1 of text file + header\n",
    "ill_formed_records = [int(index) - 2 for index in ill_formed_records_string.split(\",\")]\n",
    "\n",
    "ill_formed_records = [index for index in ill_formed_records if index >= 0]"
   ]
  },
  {
   "cell_type": "code",
   "execution_count": null,
   "metadata": {},
   "outputs": [
    {
     "name": "stdout",
     "output_type": "stream",
     "text": [
      "(2376, 7)\n",
      "(2376, 7)\n",
      "{'accuracy': 0.6077441077441077, 'precision': 0.32042095835199286, 'recall': 0.29085365853658535, 'f1_score': 0.3049222245898146, 'roc_auc': 0.5158588647874184, 'pr_auc': 0.30297194278481077, 'true_positives_count': 4920, 'predicted_positives_count': 1431}\n"
     ]
    }
   ],
   "source": [
    "# Generate the annotated output\n",
    "output = get_annotated_output(dirty_dataset, ill_formed_records)\n",
    "output.to_csv(\"./output/flights/annotated_output.csv\", index=False)\n",
    "\n",
    "\n",
    "error_annotation = annotate_errors(clean_dataset, dirty_dataset)\n",
    "error_annotation.reset_index(drop=True)\n",
    "\n",
    "\n",
    "print(calculate_metrics(error_annotation, output))"
   ]
  }
 ],
 "metadata": {
  "kernelspec": {
   "display_name": "base",
   "language": "python",
   "name": "python3"
  },
  "language_info": {
   "codemirror_mode": {
    "name": "ipython",
    "version": 3
   },
   "file_extension": ".py",
   "mimetype": "text/x-python",
   "name": "python",
   "nbconvert_exporter": "python",
   "pygments_lexer": "ipython3",
   "version": "3.11.5"
  }
 },
 "nbformat": 4,
 "nbformat_minor": 2
}
