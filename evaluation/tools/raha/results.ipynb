{
 "cells": [
  {
   "cell_type": "code",
   "execution_count": 1,
   "metadata": {},
   "outputs": [],
   "source": [
    "import pandas as pd\n",
    "import numpy as np\n",
    "import pickle\n",
    "\n",
    "\n",
    "from sklearn.metrics import (\n",
    "    accuracy_score,\n",
    "    precision_score,\n",
    "    recall_score,\n",
    "    f1_score,\n",
    "    roc_auc_score,\n",
    "    average_precision_score,\n",
    "    confusion_matrix,\n",
    ")"
   ]
  },
  {
   "cell_type": "code",
   "execution_count": null,
   "metadata": {},
   "outputs": [
    {
     "name": "stdout",
     "output_type": "stream",
     "text": [
      "Attributes of the loaded object:\n",
      "name: <class 'str'>\n",
      "path: <class 'str'>\n",
      "dataframe: <class 'pandas.core.frame.DataFrame'>\n",
      "has_ground_truth: <class 'bool'>\n",
      "clean_path: <class 'str'>\n",
      "clean_dataframe: <class 'pandas.core.frame.DataFrame'>\n",
      "dictionary: <class 'dict'>\n",
      "results_folder: <class 'str'>\n",
      "labeled_tuples: <class 'dict'>\n",
      "labeled_cells: <class 'dict'>\n",
      "labels_per_cluster: <class 'dict'>\n",
      "detected_cells: <class 'dict'>\n",
      "strategy_profiles: <class 'list'>\n",
      "column_features: <class 'list'>\n",
      "clusters_k_j_c_ce: <class 'dict'>\n",
      "cells_clusters_k_j_ce: <class 'dict'>\n",
      "sampled_tuple: <class 'numpy.int32'>\n",
      "extended_labeled_cells: <class 'dict'>\n"
     ]
    }
   ],
   "source": [
    "pickle_file_path = (\n",
    "    \"./output/beers/raha-baran-results-beers/error-detection/detection.dataset\"\n",
    ")\n",
    "\n",
    "with open(pickle_file_path, \"rb\") as file:\n",
    "    dataset_object = pickle.load(file)\n",
    "\n",
    "print(\"Attributes of the loaded object:\")\n",
    "for key, value in vars(dataset_object).items():\n",
    "    print(f\"{key}: {type(value)}\")"
   ]
  },
  {
   "cell_type": "code",
   "execution_count": null,
   "metadata": {},
   "outputs": [],
   "source": [
    "import pickle\n",
    "import pandas as pd\n",
    "\n",
    "\n",
    "def save_annotated_results(pickle_file_path, original_dataset_path):\n",
    "    \"\"\"\n",
    "    Load a pickled .dataset file, generate an annotated CSV based on errors,\n",
    "    and save it with columns and shape from the original dataset.\n",
    "    \"\"\"\n",
    "    try:\n",
    "        # Load the pickled object\n",
    "        with open(pickle_file_path, \"rb\") as file:\n",
    "            dataset_object = pickle.load(file)\n",
    "\n",
    "        # Load the original dataset to get the shape and columns\n",
    "        original_df = pd.read_csv(original_dataset_path)\n",
    "\n",
    "        # Assuming 'detected_cells' is a dictionary where keys are (row, column) tuples\n",
    "        if hasattr(dataset_object, \"detected_cells\"):\n",
    "            detected_cells = dataset_object.detected_cells  # Access the dictionary\n",
    "\n",
    "            # Create a dictionary to map column index to column name from original_df\n",
    "            col_name_mapping = {i: col for i, col in enumerate(original_df.columns)}\n",
    "\n",
    "            # Create the annotated DataFrame with zeros based on the original dataset's shape and columns\n",
    "            annotated_df = pd.DataFrame(\n",
    "                0, index=original_df.index, columns=original_df.columns\n",
    "            )\n",
    "\n",
    "            # Populate the DataFrame with 1 where there are errors\n",
    "            for key, value in detected_cells.items():\n",
    "                row, col = key  # Directly using the tuple key (row, col)\n",
    "\n",
    "                # Use the column index (col) to get the actual column name from the mapping\n",
    "                col_name = col_name_mapping.get(col, None)\n",
    "                if col_name is not None:\n",
    "                    annotated_df.at[row, col_name] = 1  # Mark the detected error with 1\n",
    "\n",
    "            # Save to a CSV file\n",
    "            output_path = \"./annotated_output.csv\"\n",
    "            annotated_df.to_csv(output_path, index=False, header=True)\n",
    "            print(f\"Annotated data saved to {output_path}\")\n",
    "        else:\n",
    "            print(\"'detected_cells' attribute not found in the object.\")\n",
    "\n",
    "    except Exception as e:\n",
    "        print(f\"An error occurred: {e}\")"
   ]
  },
  {
   "cell_type": "code",
   "execution_count": null,
   "metadata": {},
   "outputs": [
    {
     "name": "stdout",
     "output_type": "stream",
     "text": [
      "Annotated data saved to ./annotated_cells.csv\n"
     ]
    }
   ],
   "source": [
    "save_annotated_results(\n",
    "    \"./output/beers/raha-baran-results-beers/error-detection/detection.dataset\",\n",
    "    \"./output/beers/clean.csv\",\n",
    ")"
   ]
  },
  {
   "cell_type": "code",
   "execution_count": 5,
   "metadata": {},
   "outputs": [],
   "source": [
    "def annotate_errors(\n",
    "    df_fixed: pd.DataFrame, df_with_errors: pd.DataFrame\n",
    ") -> pd.DataFrame:\n",
    "    # Check if the dataframes have the same shape and columns after sorting\n",
    "    if df_fixed.shape != df_with_errors.shape or not all(\n",
    "        df_fixed.columns == df_with_errors.columns\n",
    "    ):\n",
    "\n",
    "        raise ValueError(\"Both dataframes must have the same structure.\")\n",
    "\n",
    "    # Convert both dataframes to strings for datatype-agnostic comparison\n",
    "    df_fixed_str = df_fixed.astype(str)\n",
    "    df_with_errors_str = df_with_errors.astype(str)\n",
    "\n",
    "    # Create the annotation dataframe by comparing the two dataframes\n",
    "    error_annotation = (df_fixed_str != df_with_errors_str).astype(int)\n",
    "\n",
    "    return error_annotation"
   ]
  },
  {
   "cell_type": "code",
   "execution_count": 6,
   "metadata": {},
   "outputs": [],
   "source": [
    "def inspect_classification(\n",
    "    true_dataset: pd.DataFrame, pred_dataset: pd.DataFrame, input_dataset: pd.DataFrame\n",
    "):\n",
    "    true_dataset.reset_index(drop=True)\n",
    "    pred_dataset.reset_index(drop=True)\n",
    "    input_dataset.reset_index(drop=True)\n",
    "\n",
    "    true_dataset.columns = input_dataset.columns\n",
    "    pred_dataset.columns = input_dataset.columns\n",
    "\n",
    "    calc = true_dataset.add(2)\n",
    "    calc_out = pred_dataset.copy()\n",
    "    calc_out[calc_out == 0] = -1\n",
    "\n",
    "    calc = calc.add(calc_out)\n",
    "\n",
    "    # True positive calculation\n",
    "    tp = calc == 4\n",
    "    true_positive_df = input_dataset[tp].astype(str)\n",
    "    true_positive_df = true_positive_df.replace(to_replace=\"nan\", value=0)\n",
    "    true_positive_df = true_positive_df.reset_index(drop=True)  # Remove index\n",
    "\n",
    "    # False positive calculation\n",
    "    fp = calc == 3\n",
    "    false_positive_df = input_dataset[fp].astype(str)\n",
    "    false_positive_df = false_positive_df.replace(to_replace=\"nan\", value=0)\n",
    "    false_positive_df = false_positive_df.reset_index(drop=True)  # Remove index\n",
    "\n",
    "    # False negative calculation\n",
    "    fn = calc == 2\n",
    "    false_negative_df = input_dataset[fn].astype(str)\n",
    "    false_negative_df = false_negative_df.replace(to_replace=\"nan\", value=0)\n",
    "    false_negative_df = false_negative_df.reset_index(drop=True)  # Remove index\n",
    "\n",
    "    all_errors_df = input_dataset[fp | fn].astype(str)\n",
    "    all_errors_df = all_errors_df.replace(to_replace=\"nan\", value=0)\n",
    "    all_errors_df = all_errors_df.reset_index(drop=True)  # Remove index\n",
    "\n",
    "    return true_positive_df, false_positive_df, false_negative_df, all_errors_df"
   ]
  },
  {
   "cell_type": "code",
   "execution_count": null,
   "metadata": {},
   "outputs": [],
   "source": [
    "def calculate_metrics(true_dataset: pd.DataFrame, pred_dataset: pd.DataFrame):\n",
    "    # Flatten the dataframes to 1D arrays\n",
    "    y_true = true_dataset.values.flatten()\n",
    "    y_pred = pred_dataset.values.flatten()\n",
    "\n",
    "    # Basic metrics\n",
    "    accuracy = accuracy_score(y_true, y_pred)\n",
    "    precision = precision_score(y_true, y_pred)\n",
    "    recall = recall_score(y_true, y_pred)\n",
    "    f1 = f1_score(y_true, y_pred)\n",
    "\n",
    "    # Class-specific accuracy\n",
    "    tn, fp, fn, tp = confusion_matrix(y_true, y_pred).ravel()\n",
    "    class_0_accuracy = tn / (tn + fp)  # Accuracy for class 0\n",
    "    class_1_accuracy = tp / (tp + fn)  # Accuracy for class 1\n",
    "\n",
    "    # AUC scores\n",
    "    roc_auc = roc_auc_score(y_true, y_pred)\n",
    "    pr_auc = average_precision_score(y_true, y_pred)\n",
    "\n",
    "    # Count of 1s in true and predicted labels\n",
    "    true_positives_count = sum(y_true == 1)  # Total 1s in true labels\n",
    "    predicted_positives_count = tp  # Total 1s in predictions\n",
    "\n",
    "    return {\n",
    "        \"accuracy\": float(accuracy),\n",
    "        \"precision\": float(precision),\n",
    "        \"recall\": float(recall),\n",
    "        \"f1_score\": float(f1),\n",
    "        \"roc_auc\": float(roc_auc),\n",
    "        \"pr_auc\": float(pr_auc),\n",
    "        \"true_positives_count\": int(true_positives_count),\n",
    "        \"predicted_positives_count\": int(predicted_positives_count),\n",
    "        \"false_positives_count\": int(fp),\n",
    "    }"
   ]
  },
  {
   "cell_type": "code",
   "execution_count": null,
   "metadata": {},
   "outputs": [
    {
     "name": "stdout",
     "output_type": "stream",
     "text": [
      "{'accuracy': 0.8805916305916306, 'precision': 0.7602909865152591, 'recall': 0.8709349593495935, 'f1_score': 0.8118605532398636, 'roc_auc': 0.8777915916966548, 'pr_auc': 0.7003434126139427, 'true_positives_count': 4920, 'predicted_positives_count': 4285, 'false_positives_count': 1351}\n"
     ]
    }
   ],
   "source": [
    "folder = \"flights\"\n",
    "\n",
    "input_dataset = pd.read_csv(f\"../../datasets/{folder}/{folder}.csv\")\n",
    "pred_dataset = pd.read_csv(f\"./output/{folder}/annotated_output.csv\")\n",
    "\n",
    "true_dataset = pd.read_csv(f\"../../datasets/{folder}/clean.csv\")\n",
    "\n",
    "error_annotation = annotate_errors(true_dataset, input_dataset)\n",
    "\n",
    "true_positive_df, false_positive_df, false_negative_df, all_errors_df = (\n",
    "    inspect_classification(error_annotation, pred_dataset, input_dataset)\n",
    ")\n",
    "\n",
    "# true_positive_df.to_csv(f\"../datasets/{folder}/tp.csv\")\n",
    "# false_positive_df.to_csv(f\"../datasets/{folder}/fp.csv\")\n",
    "# false_negative_df.to_csv(f\"../datasets/{folder}/fn.csv\")\n",
    "# all_errors_df.to_csv(f\"../datasets/{folder}/all_errors.csv\")\n",
    "\n",
    "print(calculate_metrics(error_annotation, pred_dataset))"
   ]
  }
 ],
 "metadata": {
  "kernelspec": {
   "display_name": "base",
   "language": "python",
   "name": "python3"
  },
  "language_info": {
   "codemirror_mode": {
    "name": "ipython",
    "version": 3
   },
   "file_extension": ".py",
   "mimetype": "text/x-python",
   "name": "python",
   "nbconvert_exporter": "python",
   "pygments_lexer": "ipython3",
   "version": "3.11.5"
  }
 },
 "nbformat": 4,
 "nbformat_minor": 2
}
